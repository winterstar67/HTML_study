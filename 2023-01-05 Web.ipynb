{
 "cells": [
  {
   "cell_type": "markdown",
   "id": "d789d587-e35d-4a11-a9a7-a93fc7237c21",
   "metadata": {
    "tags": []
   },
   "source": [
    "# HTML 공부"
   ]
  },
  {
   "cell_type": "markdown",
   "id": "ebe61606-7987-41de-9740-8b49a0b98e05",
   "metadata": {},
   "source": [
    "# 2023-01-05"
   ]
  },
  {
   "cell_type": "markdown",
   "id": "a1505094-5e9f-4032-99d4-a323f43ecb28",
   "metadata": {},
   "source": [
    "`-` 공부 내용 출처: https://www.youtube.com/watch?v=yBPyzaccbkc&list=PLuHgQVnccGMDZP7FJ_ZsUrdCGH68ppvPb&index=17"
   ]
  },
  {
   "cell_type": "markdown",
   "id": "75d23faf-33dd-45d1-baa8-802c85e839d7",
   "metadata": {},
   "source": [
    "### `-` Internet"
   ]
  },
  {
   "cell_type": "markdown",
   "id": "600daf8d-eedd-4382-8e1d-d2249c11c6bc",
   "metadata": {},
   "source": [
    "인터넷이 동작하기 위해선 최소 몇 대의 컴퓨터가 필요할까?  \n",
    "**2대이다.**\n",
    "- 1 대는 인터넷이 아니다.\n",
    "- 3 대는 본질적이지 않다.\n",
    "\n",
    "팀 버너스 리는 두 개의 컴퓨터를 장만하고, 두 개의 프로그램을 만듬.\n",
    "1. 웹 브라우저라는 프로그램\n",
    "2. 웹 서버라는 프로그램\n",
    "\n",
    "이 두 개의 컴퓨터는 인터넷으로 연결되어 있음.  \n",
    "웹 서버가 설치된 컴퓨터에는 \n",
    "- info.cern.ch라는 주소를 가지고 있음.  \n",
    "- 이 컴퓨터엔 하드디스크도 있는데, 어떤 디렉토리 안에, index.html이라는 파일이 저장되어있음.\n",
    "- 그리고 웹 브라우저에서 info.cern.ch/index.html이라고 입력하면 어떤 일이 생길까?\n",
    "\n",
    "웹 브라우저가 설치된 컴퓨터는 인터넷을 통해 전기적인 신호를, info.cern.ch에 해당되는 컴퓨터에 보낸다.  \n",
    "그리고 그 신호 안에는 `나는 index.html 파일을 원합니다.` 라는 정보가 담겨있다.  \n",
    "\n",
    "info.cern.ch에 해당되는 컴퓨터에 설치된 웹서버라는 프로그램이 하드디스크에서 index.html이라는 파일을 찾아서 이것 웹 브라우저가 설치된 컴퓨터 다시 전기적 신호를 쏴준다. \n",
    "- 이 신호 안에는 index.html이라는 파일 안에 저장되어 있는 코드가 담겨있음.  \n",
    "\n",
    "그러면 웹 브라우저가 설치된 컴퓨터에는 index.html이라는 파일의 내용이 도착함.\n",
    "- 코드가 도착하게 되는 것.\n",
    "\n",
    "그러면 이 코드를 웹 브라우저가 읽고, 이걸 해석해서 화면에 표시하면 우리가 알고 있는 웹 사이트가 나오게 됨.\n",
    "\n",
    "이 관계를 잘 보면, 웹 브라우저가 설치된 컴퓨터와 웹 서버 컴퓨터가 서로 정보를 주고받음.  \n",
    "이 중에서, 웹 브라우저 컴퓨터는 정보를 **요청하고 있다.**  \n",
    "반면에, 웹 서버 컴퓨터는 정보를 **정보를 응답하고 있다.**\n",
    "\n",
    "두 대의 컴퓨터가 서로 정보를 주고 받을 때, 각각 컴퓨터를 역할에 따라서 부르는 것이 고객(Client)과 서비스 제공자(server)라고 함.\n",
    "\n",
    "그래서, 인터넷을 사용하는 컴퓨터들 사이에 정보가 왔다갔다 할 때, 요청하는 컴퓨터를 client, 응답하는 컴퓨터를 server라고 한다.\n",
    "- Web Browswer를 Web Client라고도 부를 수 있다.\n",
    "\n",
    "웹 브라우저는 익숙한데, 웹 서버는 익숙치가 않다.  \n",
    "웹 서버를 사용할 수 있게 된다는 것은 어떤 의미일까?  \n",
    "`내 컴퓨터에 있는 문서를, 전 세계에 있는 누구나 인터넷이 연결된 컴퓨터에 웹 브라우저를 깔면 가져다가 볼 수 있도록 할 수 있다.` 라고 하는 것.\n",
    "\n",
    "이러한 일은 어떻게 할 수 있을까?  \n",
    "방법:\n",
    "1. 자신의 컴퓨터에 웹 서버를 직접 깔아서 하는 것.\n",
    "2. 자신의 컴퓨터에 직접 까는 것이 아니라, 이런 일을 대행해주는 업체에게 맡기는 것. "
   ]
  },
  {
   "cell_type": "markdown",
   "id": "6c9faf84-d1ba-4d85-a34e-5f116442d5be",
   "metadata": {},
   "source": []
  },
  {
   "cell_type": "markdown",
   "id": "4512136f-dc4f-4742-8b30-06437becfabd",
   "metadata": {},
   "source": [
    "### `-` Web Hosting\n",
    "- https://www.youtube.com/watch?v=MN1g0490WAg&list=PLuHgQVnccGMDZP7FJ_ZsUrdCGH68ppvPb&index=19"
   ]
  },
  {
   "cell_type": "markdown",
   "id": "232c236c-a33b-401c-8d02-0946563bc66e",
   "metadata": {},
   "source": [
    "직접 웹 서버를 운영하는 일은 쉬운 일이 아니다.  \n",
    "1. 우선 컴퓨터가 있어야 됨.\n",
    "2. 컴퓨터가 냉장고처럼 항상 켜져있어야 함.\n",
    "3. 인터넷이 끊기지도 않아야됨.\n",
    "4. 전기세가 비싸도 곤란할 것임.\n",
    "5. 웹 서버라는 프로그램을 배워서 설치하고 잘 운영할 수 있어야 함.\n",
    "6. 인터넷을 통해서 우리의 정보를 외부로 전송할 수 있게 설정도 해야됨.\n",
    "\n",
    "이런 것들은 하나하나가 쉬운 일이 아님.\n",
    "\n",
    "그래서 이런 일들을 대행해주는 회사가 있음.  \n",
    "인터넷에 연결된 컴퓨터 하나하나를 **호스트**라고 하는데, 이런 컴퓨터를 빌려주는 사업을 **호스팅**이라고 한다.  \n",
    "요즘엔 **클라우드** 라고도 부름.  \n",
    "호스팅이건, 클라우드건, 인터넷에 연결된 컴퓨터를 빌려주는 비즈니스 라는 점에서는, 같은 개념임.\n",
    "\n",
    "호스팅 중에서, 컴퓨터의 웹 서버와 같이 **웹 동작을 위해 필요한 소프트웨어들 까지 설치해서 빌려주는 비즈니스** 를 **웹 호스팅**이라고 한다.\n",
    "\n",
    "수많은 웹 호스팅 업체가 있는데, 우리는 그 중에서 **무료**이고 유묭한 서비스를 이용할 것이다.\n",
    "- **깃허브**\n",
    "\n",
    "<br>\n",
    "\n",
    "`-` 깃허브\n",
    "\n",
    "깃허브라는 사이트에 웹 호스팅이라는 기능이 있어서, 그걸 활용할 것이다.\n",
    "\n",
    "먼저 우리의 소스코드를 저장할 공간인 **저장소(Repository)** 를 만들기.\n",
    "\n",
    "만들고 나면, 이제 우리의 소스코드를 깃허브의 저장소에 업로드를 할 것이다.  \n",
    "만들 때 보면, uploading an existing file이라는 링크가 있는데, 이걸 클릭한다.  \n",
    "여기에 우리 파일을 업로드 한다.  \n",
    "이렇게 하면 우리의 파일이 안전하게 인터넷에 저장이 된다.  \n",
    "\n",
    "html파일을 올린다면, 해당 파일이 깃허브에 생기고, 코드도 볼 수 있다. 뿐만 아니라 해당 링크를 다른 사람에게 공유도 할 수 있다.\n",
    "\n",
    "지금 우리가 소스코드를 보관하고 있는데, 깃허브에선 우리가 보관하고 있는 소스코드를 가지고 **웹사이트도 운영할 수 있는 기능**을 제공해줌.\n",
    "- 깃허브 안에 내장된 **깃허브 페이지**라는 것이다.\n",
    "\n",
    "깃허브 페이지 메뉴:\n",
    "1. 저장소에서 Settings를 누른다.\n",
    "2. 현재 저장소를 설정할 수 있는 화면이 나오는데, 여기 사이드바에 있는 Pages라는 메뉴를 클릭함.\n",
    "3. Pages에 들어가면, 웹 호스팅을 기능을 활성화시킬 수 있는 메뉴가 나온다.\n",
    "4. 여기서 None 이라고 적힌 부분을 클릭하면 `main`또는 `master` 이런 버튼이 있을 것이다. 이걸 클릭함. \n",
    "    - 4-1. 깃허브에서 웹 호스팅을 활성화하면 바로 되는건 아니고 시간이 조금 걸린다.  그런데 또 이게 어떻게 되고있는지 확인을 못하면 답답하기도 함.  \n",
    "    - 4-2.그래서 똑같은 화면 하나를 더 띄울거임. 여기서, 하나는 위에 Actions라는 메뉴를 클릭한다. \n",
    "    - 4-3. 이 Actions 에서는 이 저장소에서 일어나고 있는 여러가지 작업들이 어떻게 진행됬는지를 확인할 수 있는 페이지이다. \n",
    "5. 다시 원래 작업하던 Pages 페이지에서 Save를 누르면 우리 저장소의 웹서버 기능이 활성화가 된다.\n",
    "6. 이렇게 하고 Actions를 띄운 페이지를 새로고침하면 UI가 바뀔 것이다. \n",
    "7. 여기에 pages build and deployment가 나오는데, 이걸 누르면 build가 진행되고 deployment가 진행된다는 것이 나온다.\n",
    "    - 7-1. build를 눌러보면, 어떤 절차가 진행되고 있는지, 과정을 알려줌.\n",
    "    - 7-2. build가 끝나면 deployment라는 작업을 진행함. 이건 배치하는 작업.(경우에 따라서, 여기는 절차가 다 안끝났는데도 deployment가 초록불이 나와서 다됬다고 하는 경우도 있음)\n",
    "    \n",
    "그럼 이제 다시 Pages로 가보면, `Your site is ready to be published at [주소 링크]` 와 같이 나온다. 여기서 주소 링크를 클릭해보면, 우리가 만든 웹사이트가 화면에 나온다.  \n",
    "이 주소를 통해서 전세계의 누구나 우리가 만든 웹사이트에 방문할 수 있는 일을 해낸 것이다!  \n",
    "\n",
    "`-` 만약 html 파일 내용을 바꾼다면?\n",
    "\n",
    "다시 해당 저장소에 가서 Upload file을 하고 바꾼 파일을 업로드하고(Commit Change에 간단하게 수정한 내용을 적어도 되고) 한다.  \n",
    "그렇게 하고 나면, 깃허브가 우리의 웹사이트를 자동으로 갱신해준다.  \n",
    "이 진행상황을 보고싶다면, Actions를 클릭해서 pages build and deployment에 들어가면 진행상황을 볼 수 있다.\n",
    "\n",
    "\n",
    "내용 정리: https://youtu.be/MN1g0490WAg?list=PLuHgQVnccGMDZP7FJ_ZsUrdCGH68ppvPb&t=565\n",
    "\n",
    "\n",
    "\n",
    "\n",
    "\n",
    "\n",
    "\n",
    "\n",
    "\n",
    "\n",
    "\n",
    "\n",
    "\n",
    "\n"
   ]
  },
  {
   "cell_type": "markdown",
   "id": "7491bf49-79a6-4b49-a4d0-ae34b287cd39",
   "metadata": {},
   "source": []
  },
  {
   "cell_type": "markdown",
   "id": "1ab2811c-5714-47ba-9640-ff45aded2487",
   "metadata": {},
   "source": [
    "### `-` Web Server \n",
    "#### (`이번 수업은 실습보단 이론으로 보는 것이 좋겠음.`)"
   ]
  },
  {
   "cell_type": "markdown",
   "id": "e5c165ab-cf6b-4b6c-851b-3c86eb7622f3",
   "metadata": {},
   "source": [
    "- https://www.youtube.com/watch?v=pyoTcvNrbmk&list=PLuHgQVnccGMDZP7FJ_ZsUrdCGH68ppvPb&index=19"
   ]
  },
  {
   "cell_type": "markdown",
   "id": "38837aa3-eefc-4f63-a9bd-6bb49f8ed215",
   "metadata": {},
   "source": [
    "서버를 운영하는건 흔한일이 아니고 대부분 웹 호스팅을 사용함.  \n",
    "\n",
    "일단 웹 브라우저는 제품명인가? 제품 군인가?\n",
    "- **제품군**이다.\n",
    "\n",
    "웹서버도 마찬가지이다.  \n",
    "웹서버라는 제품군이 있고,  여기에 속하는 여러가지 제품들이 있음\n",
    "- 제품들 예: Apache, IIS, Nginx\n",
    "\n",
    "`Live Sever`라는 것이 있다.  \n",
    "이것은 Visual Studio(VS)의 확장 기능인데, 아주 유명한 웹서버이다.  \n",
    "VS 코드의 사이드 메뉴에서 확장 기능을 선택하고, `live server`를 검색한다.  \n",
    "그리고 Liver Server를 install함.  \n",
    "하단에 Go Live라는 버튼이 있으면 성공적으로 install 한 것.  \n",
    "이 Go Live를 누르면, Live Server가 시작됨.  \n",
    "그렇게 하고 잠시후에 Port 5500이라고 뜨면, 웹서버가 실행되는 것. 그리고 동시에 웹 브라우저가 뜰거임.  \n",
    "\n",
    "그러면 주소창에 `http://127.0.0.1:5500` 이 있을 것이다.  \n",
    "우리는 지금 자신이 실행한 웹서버를 통해서 서비스되고 있는 웹 페이지를 보고 있는 것이다!\n",
    "\n",
    "Live Sever의 유용한 점은 실시간 편집기능이다.  \n",
    "코드를 편집하면 실시간으로 웹브라우저의 내용이 변경됨.\n",
    "- `위의 깃허브에서는 실시간으로 업데이트 되지 않았다는 것을 생각해보면 해당 기능의 중요성이 크게 와닿을 수 있다.`\n",
    "\n",
    "이번엔 웹 서버를 꺼보자.  \n",
    "Port라고 적힌 버튼을 클릭하고 웹페이지를 새로고침하면 웹 사이트가 열리지 않는다.  \n",
    "\n",
    "해당 원리 내용: https://youtu.be/pyoTcvNrbmk?list=PLuHgQVnccGMDZP7FJ_ZsUrdCGH68ppvPb&t=189\n",
    "\n",
    "\n",
    "주소에 대한 내용:\n",
    "- `http`: Hyper Text Transfer Protocol의 약자.\n",
    "\n",
    "- 127.0.0.1 (Internet Protocol Address, IP라고도 부르는 것): \n",
    "    - IP address는 약 43억개가 있는데, 그 중에서 특별한 주소가 127.0.0.1이다. 이 주소는 **내 컴퓨터 자신을 가르키자고 약속한 주소**이다. \n",
    "    - 그래서 현재 웹 브라우저는 같은 컴퓨터의 웹 서버에 접속을 시도하고 있는 것. 주로 개발할 때 많이 사용하는 address라고 하심.\n",
    "    \n",
    "- 5500 (Port): \n",
    "    - 하나의 컴퓨터에 여러 개의 서버가 동작하고 있다고 해보자. \n",
    "    - 그러면 웹 브라우저는 서버가 여러 개인데 누구랑 통신해야되는가??\n",
    "    - 그래서 각각의 서버는 각자의 Port 번호라는 것을 가지고 있다. 그리고 웹 브라우저에 우리가 지금 입력한 주소의 Port는 5500이니까 5500번 포트에 연결된 웹 서버와 통신할 수 있게 되는 것이다."
   ]
  },
  {
   "cell_type": "markdown",
   "id": "20c4e5ff-6ca2-4547-b202-9f0eea281830",
   "metadata": {},
   "source": []
  },
  {
   "cell_type": "markdown",
   "id": "b02e529f-fba1-46b3-a86e-66dc19888b65",
   "metadata": {},
   "source": []
  },
  {
   "cell_type": "markdown",
   "id": "77e7f7af-06fd-4e5f-a838-2df706f911ea",
   "metadata": {},
   "source": []
  },
  {
   "cell_type": "markdown",
   "id": "30f89f2c-0d23-4772-be20-c317bd2dcbe5",
   "metadata": {},
   "source": []
  },
  {
   "cell_type": "markdown",
   "id": "8f6ac2f4-2752-417c-8aa6-7314f2bbcd02",
   "metadata": {},
   "source": []
  },
  {
   "cell_type": "markdown",
   "id": "189d6e0e-78e3-4c2e-a31a-b41f9ef42ac3",
   "metadata": {},
   "source": []
  },
  {
   "cell_type": "markdown",
   "id": "bcf75441-f4c4-4d59-8e3a-ce2e891e2b52",
   "metadata": {},
   "source": []
  }
 ],
 "metadata": {
  "kernelspec": {
   "display_name": "Python 3 (ipykernel)",
   "language": "python",
   "name": "python3"
  },
  "language_info": {
   "codemirror_mode": {
    "name": "ipython",
    "version": 3
   },
   "file_extension": ".py",
   "mimetype": "text/x-python",
   "name": "python",
   "nbconvert_exporter": "python",
   "pygments_lexer": "ipython3",
   "version": "3.9.12"
  }
 },
 "nbformat": 4,
 "nbformat_minor": 5
}
