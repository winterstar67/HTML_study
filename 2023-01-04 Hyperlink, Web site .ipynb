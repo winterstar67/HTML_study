{
 "cells": [
  {
   "cell_type": "markdown",
   "id": "d789d587-e35d-4a11-a9a7-a93fc7237c21",
   "metadata": {
    "tags": []
   },
   "source": [
    "# HTML 공부"
   ]
  },
  {
   "cell_type": "markdown",
   "id": "ebe61606-7987-41de-9740-8b49a0b98e05",
   "metadata": {},
   "source": [
    "# 2023 1월 04일"
   ]
  },
  {
   "cell_type": "markdown",
   "id": "a1505094-5e9f-4032-99d4-a323f43ecb28",
   "metadata": {},
   "source": [
    "`-` 공부 내용 출처: https://www.youtube.com/watch?v=pYOEy_mAMpI&list=PLuHgQVnccGMDZP7FJ_ZsUrdCGH68ppvPb&index=16"
   ]
  },
  {
   "cell_type": "markdown",
   "id": "cdae7bc1-1ca9-48e0-aedc-25df5c1c93b8",
   "metadata": {},
   "source": [
    "이번 시간의 실습 파일들:  \n",
    "- index.html\n",
    "- 1.html\n",
    "- 2.html\n",
    "- 3.html"
   ]
  },
  {
   "cell_type": "markdown",
   "id": "cea6c015-6d18-4ad1-b10b-c7883ba8ea46",
   "metadata": {
    "tags": []
   },
   "source": [
    "### `a` 태그"
   ]
  },
  {
   "cell_type": "markdown",
   "id": "b014791e-3913-4424-aab8-c1ee869589d3",
   "metadata": {},
   "source": [
    "`a`는 anchor의 첫 글자를 딴 a 태그이다.  \n",
    "`a`: 링크를 담당하는 태그이다. "
   ]
  },
  {
   "cell_type": "markdown",
   "id": "b8a44be7-1049-44bb-a49b-761f4b2a873c",
   "metadata": {},
   "source": [
    "태그 `a`의 사용 예시:  `<a href=\"\"> 링크를 걸려고 하는 텍스트 </a>`\n",
    "- 여기서 href는 Hyperlink의 REFerence의 약자 정도로 생각하면 될듯 하다.\n",
    "\n",
    "이렇게하면 링크가 걸리고, 해당 링크를 클릭시, href에 지정한 웹페이지로 이동하게 된다.\n",
    "\n",
    "**만약 새 탭이 열리게 하고싶다면?**  \n",
    "target=\"_blank\"라는 속성도 넣으면 된다.  \n",
    "\n",
    "**만약 클릭하기 전에 어떤 링크인지 툴팁으로 알려주고싶다면?**  \n",
    "title=\"`~~`\"라는 속성을 사용한다. 해당 링크 텍스트에 마우스를 올려놓으면 title에서 지정한 제목이 나타나게 된다."
   ]
  },
  {
   "cell_type": "markdown",
   "id": "3f5e61cf-9960-4056-b2e2-7c562ed54dcb",
   "metadata": {},
   "source": []
  },
  {
   "cell_type": "markdown",
   "id": "b1ad381c-e26c-4b5f-b8f3-4b60895a4a41",
   "metadata": {},
   "source": [
    "### `-` 웹사이트:  \n",
    "웹페이지들이 하나하나 묶여서 하나의 웹사이트를 만든다고 보면된다.  \n",
    "- 마치 페이지가 묶여서 책이 되는 것 처럼"
   ]
  },
  {
   "cell_type": "markdown",
   "id": "f6f3f7e6-de46-4f75-93b7-8ba25db0f65b",
   "metadata": {},
   "source": [
    "웹페이지들을 엮어서 웹 사이트를 만들어보자.\n",
    "- 웹 사이트는 `WEB`, `HTML`, `CSS`, `JavaScript`라는 각각의 웹페이지들로 이루어져있다."
   ]
  },
  {
   "cell_type": "markdown",
   "id": "7c7bea77-8e54-44a8-a8a2-bf0e4a3a10ec",
   "metadata": {},
   "source": [
    "먼저 메인 페이지에서 WEB은 제목역할 이라서 h1태그로 묶는다.  \n",
    "그리고 HTML은, 웹사이트를 이루는 4개의 웹페이지에서 하나를 담당하므로 h2태그로 묶는다."
   ]
  },
  {
   "cell_type": "markdown",
   "id": "7f5337ee-7efb-439f-b0d8-656cdfbcb180",
   "metadata": {},
   "source": [
    "해당 HTML을 일종의 템플릿으로 해서 다른 웹페이지들도 만들어본다."
   ]
  },
  {
   "cell_type": "markdown",
   "id": "f4db7b8c-c3b6-455d-8cac-f8d498ea82f0",
   "metadata": {},
   "source": [
    "이 시간에는 웹 페이지 파일인 1.html, 2.html, 3.html, index.html 파일을 만듬"
   ]
  },
  {
   "cell_type": "markdown",
   "id": "8853ec2a-651a-4c20-b6d7-112e1d079bd6",
   "metadata": {},
   "source": []
  },
  {
   "cell_type": "markdown",
   "id": "1bd7c49c-d894-4342-b6b0-ea146716035a",
   "metadata": {},
   "source": [
    "### `-` 웹의 역사"
   ]
  },
  {
   "cell_type": "markdown",
   "id": "d7e25f77-7114-4387-b67e-8b4a55f7f39e",
   "metadata": {},
   "source": [
    "`-` Internet과 Web은 같은 것일까? 다른 것일까?  \n",
    "- **이 둘은 다르다.**\n",
    "\n",
    "비유:  \n",
    "- 인터넷이 도시라면, 웹은 그 도시 위에있는 건물 하나인 셈이다.  \n",
    "- 인터넷이 도로라면, 웹은 그 도로 위를 달리는 자동차 한 대인 셈이다.\n",
    "- 인터넷이 OS라면, 웹은 그 OS 위에있는 하나의 프로그램인 셈이다.\n",
    "\n",
    "인터넷을 큰 원으로 보면 인터넷 안에는 FTP, WEB, Email, ...등의 다양한 서비스들이 존재한다.\n",
    "\n",
    "1960년과 1990년에 정보기술 역사상 중요한 사건이 두 개가 있었다.\n",
    "- 1960: 인터넷 등장\n",
    "- 1990: 웹이 등장\n",
    "\n",
    "<br/>\n",
    "\n",
    "`-` 1960년:  \n",
    "이 당시에는 핵전쟁을 치룬 직후라, 핵이 화두였다고 한다.  \n",
    "그래서 핵에 대한 공포감이 오늘날보다도 더 컸었다.  \n",
    "미국에서는 핵공격에 대한 시뮬레이션을 했었고, 그 결과 통신 쪽에 아주 심각한 문제들이 있었다고 한다.  \n",
    "- 당시, 통신 시스템은 중앙집중적이였기 때문에, 핵공격을 당하면 통신이 마비가 되는 상황이였던 것이다.\n",
    "\n",
    "그래서 핵 공격에도 견딜 수 있는 강인한 통신 시스템의 필요성이 대두된다.\n",
    "- **그 결과로 탄생한 것이 인터넷이다.**\n",
    "\n",
    "인터넷에는 중앙이 없다.  \n",
    "대신, 여러가지 통신장치들이 있는데, 그 각각의 통신장치들이 일종의 전화국과 같은 역할을 수행하고 있다.  \n",
    "즉, 수 많은 통신장치들이 전화국과 같은 역할을 해서, 통신장치 하나가 사라져도, 나머지 통신장치들이 그 역할을 수행할 수 있는 통신 시스템이 바로 **인터넷**이다.\n",
    "\n",
    "`이렇게 인터넷이 1960년부터 시작된다.`  \n",
    "\n",
    "이로부터, 30년동안 인터넷이 전세계적으로 확산된다.  \n",
    "이 당시만해도 사람들은 인터넷을 잘 몰랐다. 왜냐하면 당시 인터넷은 기업, 연구소, 대학, 군대와 같은 거대한 기관에서 사용하던 통신 시스템이였기 때문.\n",
    "\n",
    "\n",
    "**그런데 1990년에 웹을 만나면서 완전히 새로운 길을 걷게된다.**\n",
    "웹이라는 것은, 스위스에서 나오게 된 기술이다.\n",
    "\n",
    "스위스에는 CERN이라는 입자 물리 연구소가 있는데, 당시 1980~90년대까지만 해도 정보라는 표현도 익숙치 않던 시절에 CERN에서는 현재와 매우 유사한, 정보의 바다와 같은 작은 지구에 있었다.  \n",
    "\n",
    "이렇게 정보가 넘쳐나는 1980년 CERN에서 중요한 사건이 시작됨.  \n",
    "연구소에 팀 버너스 리 라는 분이 프로그래머로써 취직을 함.  \n",
    "이 분은 10년 동안 웹의 전신이 되는 프로그램을 만들고, 또 만들고를 반복.\n",
    "\n",
    "그러다가 **1990년에 CERN에 인터넷이 들어오기 시작함**  \n",
    "팀 버너스 리는 10년동안 도전했던 과제에 인터넷이라는 것을 합성함.  \n",
    "1990년 10월: 최초로 웹페이지를 만드는 편집기를 만듬.   \n",
    "1990년 11월: 최초의 웹 브라우저인 World Wide Web이라는 프로그램을 만듬.\n",
    "1990년 12월: 팀 버너스 리와 그의 동료들은 웹 서버라는 프로그램을 만들고, 그 프로그램이 설치되어 있는 컴퓨터에 info.cern.ch라는 주소를 부여함. \n",
    "\n",
    "**이 `info.cern.ch`에서부터 웹이 시작되었다.**\n",
    "\n",
    "이렇게 웹을 만나면서 대중화의 길을 걷게 된다.  \n",
    "이렇게 웹이 인터넷의 잠재력을 끌어올리고, 인터넷과 웹은 빠른 속도로 동반 성장을 해서 지금에 이르게 됨."
   ]
  }
 ],
 "metadata": {
  "kernelspec": {
   "display_name": "Python 3 (ipykernel)",
   "language": "python",
   "name": "python3"
  },
  "language_info": {
   "codemirror_mode": {
    "name": "ipython",
    "version": 3
   },
   "file_extension": ".py",
   "mimetype": "text/x-python",
   "name": "python",
   "nbconvert_exporter": "python",
   "pygments_lexer": "ipython3",
   "version": "3.9.12"
  }
 },
 "nbformat": 4,
 "nbformat_minor": 5
}
