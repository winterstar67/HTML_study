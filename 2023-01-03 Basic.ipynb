{
 "cells": [
  {
   "cell_type": "markdown",
   "id": "d789d587-e35d-4a11-a9a7-a93fc7237c21",
   "metadata": {
    "tags": []
   },
   "source": [
    "# HTML 공부"
   ]
  },
  {
   "cell_type": "markdown",
   "id": "ebe61606-7987-41de-9740-8b49a0b98e05",
   "metadata": {},
   "source": [
    "# 2023-01-03"
   ]
  },
  {
   "cell_type": "markdown",
   "id": "25337f20-5d28-4899-9a3d-e4de88e66c32",
   "metadata": {},
   "source": [
    "`-` Motivation:\n",
    "- Python을 통한 뉴스 크롤링을 하고싶은데, 먼저 HTML 문법을 알아야 할 것 같아서 공부하게 되었다.  \n",
    "- 어느정도 충분하다 생각하면 중단할 예정\n",
    "- 특히 웹 페이지에서 자주 보았던 `div`와 같은 태그들 공부가 필요할 듯 하다."
   ]
  },
  {
   "cell_type": "markdown",
   "id": "a1505094-5e9f-4032-99d4-a323f43ecb28",
   "metadata": {},
   "source": [
    "`-` 공부 내용 출처: https://www.youtube.com/watch?v=SXtp7w7kdDc&list=PLuHgQVnccGMDZP7FJ_ZsUrdCGH68ppvPb&index=9"
   ]
  },
  {
   "cell_type": "markdown",
   "id": "097dcb95-7786-4336-aba5-c95423eb58d5",
   "metadata": {},
   "source": [
    "HTML이라는 언어는 간단히 말해서 웹페이지를 만드는 언어로 보면 된다.  \n",
    "HTML은 왜 좋을까?  \n",
    "1. HTML은 쉽다.\n",
    "2. 저작권이 없는 PUBLIC DOMAIN이다."
   ]
  },
  {
   "cell_type": "markdown",
   "id": "a41c18d8-32d0-45b7-ad6d-42a8f82bb118",
   "metadata": {},
   "source": [
    "`-` 이 공부에선 코딩을 위주로 하여서, html 코딩 파일도 같이 올리고, jupyter notebook에는 배운 기능들을 정리한다.\n",
    "\n",
    "실습 환경: Visual studio"
   ]
  },
  {
   "cell_type": "markdown",
   "id": "d71cfa5b-4070-452b-84f3-75edba95b78a",
   "metadata": {},
   "source": [
    "`-` 태그: HTML 태그는 HTML 문서를 이루는 문법적 표시이다."
   ]
  },
  {
   "cell_type": "markdown",
   "id": "9353e2b7-7a70-4b77-9a75-29974a889430",
   "metadata": {},
   "source": [
    "`-` 태그 종류들: \n",
    "- strong: 글씨체 강조\n",
    "- u: 밑줄 표시\n",
    "- h1~h6: 제목을 나타내는 태그\n",
    "- br: 다른 태그들과는 달리, 닫힌 태그 없기 br만을 사용한다.\n",
    "- p: 단락 구분\n",
    "- img: 이미지를 웹페이지에 포함시킴\n",
    "- li: list의 줄임말로, 목차를 나타낼 때 사용\n",
    "- ul: unordered list의 약자. li의 부모 태그로, li를 이용한 목차들을 그루핑해서 경계를 지을 때 사용\n",
    "- ol: ordered list의 약자. li을 사용한 목차에 대해서 숫자를 자동으로 넘버링 해준다.\n",
    "\n",
    "등등..."
   ]
  },
  {
   "cell_type": "markdown",
   "id": "a19fdcdc-5187-41ed-b752-e34911574f05",
   "metadata": {},
   "source": []
  },
  {
   "cell_type": "markdown",
   "id": "322d2625-a384-495c-916d-ee815f334c72",
   "metadata": {},
   "source": [
    "`-` 자주 사용되는 태그들 통계:\n",
    "- https://www.advancedwebranking.com/seo/html-study/"
   ]
  },
  {
   "cell_type": "markdown",
   "id": "d8c5d580-e8a6-4771-abfb-a1e02a33a6c8",
   "metadata": {},
   "source": [
    "공부할 때 팁:\n",
    "- 외국어든, 프로그래밍 언어든, 빈도수가 높은 단어/함수를 찾아서 공부를 시작해보자."
   ]
  },
  {
   "cell_type": "markdown",
   "id": "96356ac3-8408-4a3f-af96-410a50dc220c",
   "metadata": {},
   "source": []
  },
  {
   "cell_type": "markdown",
   "id": "3a34f18d-0708-43db-8293-50e60c9c6538",
   "metadata": {},
   "source": [
    "### `-` 태그 역할의 중요성"
   ]
  },
  {
   "cell_type": "markdown",
   "id": "d494f1c4-9b60-4144-8e9d-c8cf3d42b1dc",
   "metadata": {},
   "source": [
    "우리가 목차를 그냥 strong으로만 하고 title도 strong으로 해버리면, 가독성도 가독성이지만, 검색엔진이 검색을 할 때에도 불편하다고 하셨다.  \n",
    "**검색 엔진이 제목을 찾는다 하면 title 과 같은 태그를 책으로 치면, 책 표지와 같은 정보로 활용한다 하셨다.**  \n",
    "**그래서 사용 목적에 맞게 태그를 사용하는 것은 중요함**  \n",
    "그래서, 웹 페이지 제목을 만들때에는 title이라는 태그를 사용하도록 하자.\n"
   ]
  },
  {
   "cell_type": "markdown",
   "id": "a234ac1c-c293-4a20-9371-bd49d32c0d9d",
   "metadata": {},
   "source": []
  },
  {
   "cell_type": "markdown",
   "id": "8c193901-1c04-4a42-bb08-a84ec3a20512",
   "metadata": {},
   "source": [
    "### `-` 속성: 태그의 심화된 문법"
   ]
  },
  {
   "cell_type": "markdown",
   "id": "cbf2d8cf-6c9e-4227-bf71-3b4e824fb571",
   "metadata": {},
   "source": [
    "먼저 사진을 넣는 `img` 태그를 가지고 진행을 해보자.   \n",
    "`img`: 이미지를 웹페이지에 포함시킬 때 사용하는 태그  \n",
    "이 img 태그를 좀더 보자.  \n",
    "그저 `img`만 하면 어떤 이미지를 넣을 것인지에 대한 정보가 없다.  \n",
    "그래서, 어떤 이미지인지를 알려주는 속성이 source라는 것으로 약속이 되어있는데, `img src=\"\"`와 같이 사용한다. 저기서 src=\"\"의 \"\" 안에 이미지의 주소를 적어주면, 웹브라우저가 \"\"안의 적힌 주소를 해당 위치에 이미지로 표현해준다.  \n",
    "\n",
    "- https://unsplash.com/: 고화질 이미지를 받을 수 있음\n"
   ]
  },
  {
   "cell_type": "markdown",
   "id": "3b06e18d-a1ab-4661-9bbf-0b2b317768d5",
   "metadata": {},
   "source": [
    "1. 웹 페이지로부터 이미지 주소를 넣는 경우:  \n",
    "`<img src=\"https://images.unsplash.com/photo-1672627695765-af28a43d40ac?ixlib=rb-4.0.3&ixid=MnwxMjA3fDB8MHxwaG90by1wYWdlfHx8fGVufDB8fHx8&auto=format&fit=crop&w=736&q=80\">`\n",
    "\n",
    "2. 이미지 파일을 다운받아서 로컬로부터 이미지 주소를 넣는 경우:\n",
    "`<img src=\"Coding.jpg\" width=\"50%\">`\n",
    "- 다만 로컬에서 불러오는 경우는 디렉토리 경로를 잘 고려해야될 듯 싶다.\n"
   ]
  },
  {
   "cell_type": "markdown",
   "id": "b9ec6afe-3c30-4d30-afe9-e454be6e0aa7",
   "metadata": {},
   "source": [
    "이렇게 까지 하면 이미지가 출력이 된다.\n",
    "\n",
    "`-` 여기서 보고자 하는 것은 속성이다.  \n",
    "위에서 본 이미지 태그 예시에서 src=\"\"과 width=\"50%\" 와 같은 것을 속성(Attribute)라고 부른다.\n",
    "- 속성의 위치는 상관 없다.\n",
    "- 태그가 태그의 이름(예: img)만으로는 정보가 부족할 때, 속성을 부여해서 더 많은 의미를 부가할 수 있게된다."
   ]
  },
  {
   "cell_type": "markdown",
   "id": "f92666eb-86d7-42a6-b4c2-096abf0797cd",
   "metadata": {},
   "source": []
  },
  {
   "cell_type": "markdown",
   "id": "bc4a5a46-80eb-4df6-a218-f7da26b29396",
   "metadata": {},
   "source": [
    "### `-` 부모 태그, 자식 태그"
   ]
  },
  {
   "cell_type": "markdown",
   "id": "84836176-5bc3-4828-9e46-e6635e09cda4",
   "metadata": {},
   "source": [
    "`paraent`  \n",
    "    `child``/child`  \n",
    "`/paraent`\n",
    "\n",
    "와 같이 있을 때, 포함하고 있는 태그를 부모 태그, 포함되어있는 태그를 자식 태그라고 함.\n",
    "\n"
   ]
  },
  {
   "cell_type": "markdown",
   "id": "c1630014-81ec-42cf-a8d1-498aa261af5f",
   "metadata": {},
   "source": [
    "`-` 목차 태그"
   ]
  },
  {
   "cell_type": "markdown",
   "id": "ccdc8486-02d0-44c7-a8d0-4d9afb08cd9f",
   "metadata": {},
   "source": [
    "여기서는 먼저 목차에 대해서 알아볼 것이다.  \n",
    "HTML, CSS, JavaScript 각각을 목차로 만들려면, \n",
    "\n",
    "1. `li  HTML  /li`\n",
    "2. `li  CSS  /li`\n",
    "3. `li  JavaSCript  /li`\n",
    "\n",
    "이렇게 하면 된다.\n",
    "\n",
    "\n",
    "그런데 여기서 사람 닉네임에 대한 목차를 또 만든다고 해보자:  \n",
    "`li  egoing  /li`\n",
    "`li  sky  /li`\n",
    "`li  welco  /li`\n",
    "\n",
    "이렇게 하면 위의 목차와 구분이 안되는 동일한 목차처럼 보일 것이다.\n",
    "\n",
    "여기서 구분을 위해 사용하는 것이 `li`태그의 부모 태그인 `ul`이라는 태그이다.\n",
    "- li들 중에서도 어떤 li들이 서로 연관되어 있는지, 경계를 짓기위한 ul이라는 부모태그이다.\n",
    "\n",
    "이렇게 하면  \n",
    "`ul`  \n",
    "    1. `li  HTML  /li`  \n",
    "    2. `li  CSS  /li`  \n",
    "    3. `li  JavaSCript  /li`  \n",
    "`/ul`  \n",
    "`ul`  \n",
    "    `li  egoing  /li`  \n",
    "    `li  sky  /li`  \n",
    "    `li  welco  /li`  \n",
    "`/ul`  \n",
    "\n",
    "이런식으로 구분이 가능하다.\n",
    "\n",
    "그래서 li는 반드시 부모 태그인 ul을, ul은 반드시 자식태그인 li를 가지고있다. 라고 기억해두시면 된다고 하심."
   ]
  },
  {
   "cell_type": "markdown",
   "id": "4f31cd6b-4122-4e40-837a-9199f5f7587e",
   "metadata": {},
   "source": [
    "`-` 만약 자동으로 넘버링을 하고싶다면 (위와 같이 HTML앞에는 1, CSS앞에는 2 이런식으로 안붙이고)  \n",
    "`ol`이라는 태그를 사용하면 된다."
   ]
  },
  {
   "cell_type": "markdown",
   "id": "8dad6371-9dae-4328-8e7e-b0855fcf677c",
   "metadata": {},
   "source": [
    "`<ol>`  \n",
    "    `<li>HTML</li>`  \n",
    "    `<li>CSS </li>`  \n",
    "    `<li>JavaSCript</li>`  \n",
    "`</ol>`  \n",
    "`<ol>`  \n",
    "    `<li>egoing</li>`  \n",
    "    `<li>sky</li>`  \n",
    "    `<li>welco</li>`  \n",
    "`</ol>`  \n"
   ]
  },
  {
   "cell_type": "markdown",
   "id": "62177eff-103b-443f-a3fd-6d285883b2e2",
   "metadata": {},
   "source": [
    "#### `-` title"
   ]
  },
  {
   "cell_type": "markdown",
   "id": "7546a998-76d8-4fce-b74c-78d8f8e5d37b",
   "metadata": {},
   "source": [
    "타이틀은  \n",
    "`title  WEB1 - html  /title`\n",
    "\n",
    "\n",
    "이렇게 사용하면 된다. -> 그러면 웹 페이지 이름(탭 부분 이름)이 WEB1 - html 로 바뀐 것을 알 수 있다."
   ]
  },
  {
   "cell_type": "markdown",
   "id": "e2f1eb5c-9d88-4358-a1b8-ce05f6313b52",
   "metadata": {},
   "source": []
  },
  {
   "cell_type": "markdown",
   "id": "0a56ef8f-74cb-4b50-964f-9340800e117a",
   "metadata": {},
   "source": [
    "우리가 HTML을 하면서 사람들이 약속한 규칙을 알아야 한다.  \n",
    "본문과 본문을 설명하는 타이틀 간의 경계이다.\n",
    "\n",
    "보통 title 파트는 `head`로 묶고, 본문은 `body`라는 태그로 묶는다.\n",
    "- 이건 사람들 사이의 약속.\n",
    "    \n",
    "즉, HTML의 모든 태그는 head태그 아니면 body태그, 둘 중 하나에 묶이게 된다.  \n",
    "\n",
    "\n",
    "**이 head과 body를 묶는 태그가 있는데, 바로 html 태그이다.**  \n",
    "\n",
    "\n",
    "**관용적으로 작성하는 것으로, 맨 위에는 `!doctype html`이라고 해주면 되는데, 이 문서는 html이다. 라는 의미이다.**"
   ]
  },
  {
   "cell_type": "markdown",
   "id": "65298c03-7131-4b9f-8054-fca18695075f",
   "metadata": {},
   "source": []
  },
  {
   "cell_type": "markdown",
   "id": "7eb8dc4f-eac4-44a6-a81d-12dad46e576f",
   "metadata": {},
   "source": [
    "# 1월 4일"
   ]
  },
  {
   "cell_type": "markdown",
   "id": "cea6c015-6d18-4ad1-b10b-c7883ba8ea46",
   "metadata": {
    "tags": []
   },
   "source": [
    "### `a`"
   ]
  },
  {
   "cell_type": "markdown",
   "id": "b014791e-3913-4424-aab8-c1ee869589d3",
   "metadata": {},
   "source": [
    "`a`는 anchor의 첫 글자를 딴 a 태그이다.  \n",
    "`a`: 링크를 담당하는 태그이다. "
   ]
  },
  {
   "cell_type": "markdown",
   "id": "b8a44be7-1049-44bb-a49b-761f4b2a873c",
   "metadata": {},
   "source": [
    "태그 `a`의 사용 예시:  `<a href=\"\"> 링크를 걸려고 하는 텍스트 </a>`\n",
    "- 여기서 href는 Hyperlink의 REFerence의 약자 정도로 생각하면 될듯 하다.\n",
    "\n",
    "이렇게하면 링크가 걸리고, 해당 링크를 클릭시, href에 지정한 웹페이지로 이동하게 된다.\n",
    "\n",
    "**만약 새 탭이 열리게 하고싶다면?**  \n",
    "target=\"_blank\"라는 속성도 넣으면 된다.  \n",
    "\n",
    "**만약 클릭하기 전에 어떤 링크인지 툴팁으로 알려주고싶다면?**  \n",
    "title=\"`~~`\"라는 속성을 사용한다. 해당 링크 텍스트에 마우스를 올려놓으면 title에서 지정한 제목이 나타나게 된다."
   ]
  },
  {
   "cell_type": "markdown",
   "id": "3f5e61cf-9960-4056-b2e2-7c562ed54dcb",
   "metadata": {},
   "source": []
  },
  {
   "cell_type": "markdown",
   "id": "b1ad381c-e26c-4b5f-b8f3-4b60895a4a41",
   "metadata": {},
   "source": [
    "`-` 웹사이트: 웹페이지들이 하나하나 묶여서 하나의 웹사이트를 만든다고 보면된다.  \n",
    "- 마치 페이지가 묶여서 책이 되는 것 처럼\n",
    "\n",
    "웹페이지들을 엮어서 웹 사이트를 만들어보자.\n",
    "- 웹 사이트는 `WEB`, `HTML`, `CSS`, `JavaScript`라는 각각의 웹페이지들로 이루어져있다."
   ]
  },
  {
   "cell_type": "markdown",
   "id": "7c7bea77-8e54-44a8-a8a2-bf0e4a3a10ec",
   "metadata": {},
   "source": [
    "먼저 메인 페이지에서 WEB은 제목역할 이라서 h1태그로 묶는다.  \n",
    "그리고 HTML은, 웹사이트를 이루는 4개의 웹페이지에서 하나를 담당하므로 h2태그로 묶는다."
   ]
  },
  {
   "cell_type": "markdown",
   "id": "7f5337ee-7efb-439f-b0d8-656cdfbcb180",
   "metadata": {},
   "source": [
    "해당 HTML을 일종의 템플릿으로 해서 다른 웹페이지들도 만들어본다."
   ]
  },
  {
   "cell_type": "markdown",
   "id": "8853ec2a-651a-4c20-b6d7-112e1d079bd6",
   "metadata": {},
   "source": []
  },
  {
   "cell_type": "markdown",
   "id": "1bd7c49c-d894-4342-b6b0-ea146716035a",
   "metadata": {},
   "source": []
  },
  {
   "cell_type": "markdown",
   "id": "d7e25f77-7114-4387-b67e-8b4a55f7f39e",
   "metadata": {},
   "source": []
  },
  {
   "cell_type": "markdown",
   "id": "cad1a22f-25de-4f44-a32c-8922a5e448b7",
   "metadata": {},
   "source": []
  },
  {
   "cell_type": "markdown",
   "id": "cf4afd54-8577-4421-a884-3fe651936c56",
   "metadata": {},
   "source": []
  },
  {
   "cell_type": "markdown",
   "id": "196b5d84-4014-4813-a1ef-326ec608f7fe",
   "metadata": {},
   "source": [
    "### `-` 번외  \n",
    "컴퓨터는 우리가 적는`가나다라마바사` 이런식의 글씨 그대로를 저장하지 않는다.  \n",
    "컴퓨터는 모든 정보를 0아니면 1로 최종적으로 저장한다.  \n",
    "그런데, 0과 1을 어떻게 저장할 것인지에 대한 여러 약속이 있는데, 그 약속 중 하나로 utf-8이라는 것이 있다.  \n",
    "만약 파일이 utf-8로 파일이 저장되어있다면, 웹을 utf-8로 열어야 문제가 없을 것이다.  \n",
    "\n",
    "이 때 웹 브라우저이 utf-8로 열게 하는 방법은 `<meta charset=\"utf-8>` 이라고 하면 된다.\n",
    "- charset은 character 규칙이라는 의미로, `<meta charset=\"utf-8>`는 utf-8로 읽어라. 라는 의미가 된다."
   ]
  },
  {
   "cell_type": "markdown",
   "id": "ac175189-5c99-4931-9864-4f045df1d65a",
   "metadata": {},
   "source": [
    "html의 사용설명서를 보고싶으면 html specification이라고 검색해보면 될 것이다."
   ]
  },
  {
   "cell_type": "markdown",
   "id": "1db802a1-bd0e-4c92-93e5-2ce0400bb6be",
   "metadata": {},
   "source": []
  },
  {
   "cell_type": "markdown",
   "id": "e010ac2d-d8df-4b88-9b8e-255c5556815a",
   "metadata": {},
   "source": []
  },
  {
   "cell_type": "markdown",
   "id": "4b5f5e0f-790c-44e5-82fc-081ebf987696",
   "metadata": {},
   "source": []
  },
  {
   "cell_type": "markdown",
   "id": "16a2a64e-fb51-4547-885a-3569261c39a5",
   "metadata": {},
   "source": []
  },
  {
   "cell_type": "markdown",
   "id": "843ccf2c-e23e-4fef-b1b7-54e430d77b96",
   "metadata": {},
   "source": []
  }
 ],
 "metadata": {
  "kernelspec": {
   "display_name": "Python 3 (ipykernel)",
   "language": "python",
   "name": "python3"
  },
  "language_info": {
   "codemirror_mode": {
    "name": "ipython",
    "version": 3
   },
   "file_extension": ".py",
   "mimetype": "text/x-python",
   "name": "python",
   "nbconvert_exporter": "python",
   "pygments_lexer": "ipython3",
   "version": "3.9.12"
  }
 },
 "nbformat": 4,
 "nbformat_minor": 5
}
