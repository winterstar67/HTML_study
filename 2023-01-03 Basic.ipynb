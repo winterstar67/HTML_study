{
 "cells": [
  {
   "cell_type": "markdown",
   "id": "d789d587-e35d-4a11-a9a7-a93fc7237c21",
   "metadata": {
    "tags": []
   },
   "source": [
    "# HTML 공부"
   ]
  },
  {
   "cell_type": "markdown",
   "id": "ebe61606-7987-41de-9740-8b49a0b98e05",
   "metadata": {},
   "source": [
    "# 2023 1월 03일"
   ]
  },
  {
   "cell_type": "markdown",
   "id": "25337f20-5d28-4899-9a3d-e4de88e66c32",
   "metadata": {},
   "source": [
    "`-` Motivation:\n",
    "- Python을 통한 뉴스 크롤링을 하고싶은데, 먼저 HTML 문법을 알아야 할 것 같아서 공부하게 되었다.  \n",
    "- 어느정도 충분하다 생각하면 중단할 예정\n",
    "- 특히 웹 페이지에서 자주 보았던 `div`와 같은 태그들 공부가 필요할 듯 하다."
   ]
  },
  {
   "cell_type": "markdown",
   "id": "a1505094-5e9f-4032-99d4-a323f43ecb28",
   "metadata": {},
   "source": [
    "`-` 공부 내용 출처: https://www.youtube.com/watch?v=SXtp7w7kdDc&list=PLuHgQVnccGMDZP7FJ_ZsUrdCGH68ppvPb&index=9"
   ]
  },
  {
   "cell_type": "markdown",
   "id": "097dcb95-7786-4336-aba5-c95423eb58d5",
   "metadata": {},
   "source": [
    "HTML이라는 언어는 간단히 말해서 웹페이지를 만드는 언어로 보면 된다.  \n",
    "HTML은 왜 좋을까?  \n",
    "1. HTML은 쉽다.\n",
    "2. 저작권이 없는 PUBLIC DOMAIN이다."
   ]
  },
  {
   "cell_type": "markdown",
   "id": "a41c18d8-32d0-45b7-ad6d-42a8f82bb118",
   "metadata": {},
   "source": [
    "`-` 이 공부에선 코딩을 위주로 하여서, html 코딩 파일도 같이 올리고, jupyter notebook에는 배운 기능들을 정리한다.\n",
    "\n",
    "실습 환경: Visual studio"
   ]
  },
  {
   "cell_type": "markdown",
   "id": "d71cfa5b-4070-452b-84f3-75edba95b78a",
   "metadata": {},
   "source": [
    "`-` 태그: HTML 태그는 HTML 문서를 이루는 문법적 표시이다."
   ]
  },
  {
   "cell_type": "markdown",
   "id": "9353e2b7-7a70-4b77-9a75-29974a889430",
   "metadata": {},
   "source": [
    "`-` 태그 종류들: \n",
    "- `<strong>`: 글씨체 강조\n",
    "- `<u>`: 밑줄 표시\n",
    "- `<h1~h6>`: 제목을 나타내는 태그\n",
    "- `<br>`: 다른 태그들과는 달리, 닫힌 태그 없기 `<br>`만을 사용한다.\n",
    "- `<p>`: 단락 구분\n",
    "- `<img>`: 이미지를 웹페이지에 포함시킴\n",
    "\n",
    "이렇게 `<strong>`과 `<u>`와 같은 것들을 `Tag`라고 한다."
   ]
  },
  {
   "cell_type": "markdown",
   "id": "a19fdcdc-5187-41ed-b752-e34911574f05",
   "metadata": {},
   "source": []
  },
  {
   "cell_type": "markdown",
   "id": "322d2625-a384-495c-916d-ee815f334c72",
   "metadata": {},
   "source": [
    "`-` 자주 사용되는 태그들 통계:\n",
    "- https://www.advancedwebranking.com/seo/html-study/"
   ]
  },
  {
   "cell_type": "markdown",
   "id": "d8c5d580-e8a6-4771-abfb-a1e02a33a6c8",
   "metadata": {},
   "source": [
    "공부할 때 팁:\n",
    "- 외국어든, 프로그래밍 언어든, 빈도수가 높은 단어/함수를 찾아서 공부를 시작해보자."
   ]
  },
  {
   "cell_type": "markdown",
   "id": "a234ac1c-c293-4a20-9371-bd49d32c0d9d",
   "metadata": {},
   "source": []
  },
  {
   "cell_type": "markdown",
   "id": "8c193901-1c04-4a42-bb08-a84ec3a20512",
   "metadata": {},
   "source": [
    "### `-` 속성: 태그의 심화된 문법"
   ]
  },
  {
   "cell_type": "markdown",
   "id": "cbf2d8cf-6c9e-4227-bf71-3b4e824fb571",
   "metadata": {},
   "source": [
    "먼저 사진을 넣는 `<img>` 태그를 가지고 진행을 해보자.   \n",
    "`<img>`: 이미지를 웹페이지에 포함시킬 때 사용하는 태그  \n",
    "이 img 태그를 좀더 보자.  \n",
    "그저 `<img>`만 하면 어떤 이미지를 넣을 것인지에 대한 정보가 없다.  \n",
    "그래서, 어떤 이미지인지를 알려주는 속성이 source라는 것으로 약속이 되어있는데, `<img src=\"\">`와 같이 사용한다. 저기서 src=\"\"의 \"\" 안에 이미지의 주소를 적어주면, 웹브라우저가 \"\"안의 적힌 주소를 해당 위치에 이미지로 표현해준다.  \n",
    "\n",
    "- https://unsplash.com/: 고화질 이미지를 받을 수 있음\n"
   ]
  },
  {
   "cell_type": "markdown",
   "id": "3b06e18d-a1ab-4661-9bbf-0b2b317768d5",
   "metadata": {},
   "source": [
    "1. 웹 페이지로부터 이미지 주소를 넣는 경우:  \n",
    "`<img src=\"https://images.unsplash.com/photo-1672627695765-af28a43d40ac?ixlib=rb-4.0.3&ixid=MnwxMjA3fDB8MHxwaG90by1wYWdlfHx8fGVufDB8fHx8&auto=format&fit=crop&w=736&q=80\">`\n",
    "\n",
    "2. 이미지 파일을 다운받아서 로컬로부터 이미지 주소를 넣는 경우:\n",
    "`<img src=\"Coding.jpg\" width=\"50%\">`\n",
    "- 다만 로컬에서 불러오는 경우는 디렉토리 경로를 잘 고려해야될 듯 싶다.\n"
   ]
  },
  {
   "cell_type": "markdown",
   "id": "b9ec6afe-3c30-4d30-afe9-e454be6e0aa7",
   "metadata": {},
   "source": [
    "이렇게 까지 하면 이미지가 출력이 된다.\n",
    "\n",
    "`-` 여기서 보고자 하는 것은 속성이다.  \n",
    "위에서 본 이미지 태그 예시에서 src=\"\"과 width=\"50%\" 와 같은 것을 속성(Attribute)라고 부른다.\n",
    "- 속성의 위치는 상관 없다.\n",
    "- 태그가 태그의 이름(예: img)만으로는 정보가 부족할 때, 속성을 부여해서 더 많은 의미를 부가할 수 있게된다."
   ]
  },
  {
   "cell_type": "markdown",
   "id": "f92666eb-86d7-42a6-b4c2-096abf0797cd",
   "metadata": {},
   "source": []
  },
  {
   "cell_type": "markdown",
   "id": "539991bf-9038-4fdb-9fe4-4a0c78e72acf",
   "metadata": {},
   "source": [
    "`-` 이후 강의 내용: https://www.youtube.com/watch?v=aUtnyev_1vg&list=PLuHgQVnccGMDZP7FJ_ZsUrdCGH68ppvPb&index=12"
   ]
  },
  {
   "cell_type": "markdown",
   "id": "84836176-5bc3-4828-9e46-e6635e09cda4",
   "metadata": {},
   "source": []
  },
  {
   "cell_type": "markdown",
   "id": "ccdc8486-02d0-44c7-a8d0-4d9afb08cd9f",
   "metadata": {},
   "source": []
  },
  {
   "cell_type": "markdown",
   "id": "8dad6371-9dae-4328-8e7e-b0855fcf677c",
   "metadata": {},
   "source": []
  },
  {
   "cell_type": "markdown",
   "id": "96ecc60b-0b4e-489f-8092-975dc4fdc633",
   "metadata": {},
   "source": []
  },
  {
   "cell_type": "markdown",
   "id": "843ccf2c-e23e-4fef-b1b7-54e430d77b96",
   "metadata": {},
   "source": []
  }
 ],
 "metadata": {
  "kernelspec": {
   "display_name": "Python 3 (ipykernel)",
   "language": "python",
   "name": "python3"
  },
  "language_info": {
   "codemirror_mode": {
    "name": "ipython",
    "version": 3
   },
   "file_extension": ".py",
   "mimetype": "text/x-python",
   "name": "python",
   "nbconvert_exporter": "python",
   "pygments_lexer": "ipython3",
   "version": "3.9.12"
  }
 },
 "nbformat": 4,
 "nbformat_minor": 5
}
